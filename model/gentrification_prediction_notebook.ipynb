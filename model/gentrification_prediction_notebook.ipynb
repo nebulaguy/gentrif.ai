{
 "cells": [
  {
   "cell_type": "markdown",
   "id": "b0a12774",
   "metadata": {},
   "source": [
    "## Gentrification Prediction Model"
   ]
  },
  {
   "cell_type": "markdown",
   "id": "f7622202",
   "metadata": {},
   "source": [
    "classify dataset"
   ]
  },
  {
   "cell_type": "code",
   "execution_count": 5,
   "id": "25db5c8e",
   "metadata": {},
   "outputs": [],
   "source": [
    "\n",
    "import pandas as pd\n",
    "\n",
    "# Load the dataset\n",
    "data = pd.read_csv(\"../data/Final_Dataset/final_merged_dataset.csv\")\n",
    "\n",
    "# Calculate thresholds based on percentiles\n",
    "thresholds = {\n",
    "    \"ZHVF 1-Year Forecast (%)\": data[\"ZHVF 1-Year Forecast (%)\"].quantile(0.75),\n",
    "    \"Percent Change\": data[\"Percent Change\"].quantile(0.75),\n",
    "    \"Mean Income\": data[\"Mean Income\"].quantile(0.75),\n",
    "    \"luxury_business_count\": data[\"luxury_business_count\"].quantile(0.75),\n",
    "    \"SizeRank_lower\": data[\"SizeRank\"].quantile(0.45),\n",
    "    \"SizeRank_upper\": data[\"SizeRank\"].quantile(0.55)\n",
    "}\n",
    "\n",
    "# Function to count criteria met for gentrification\n",
    "def count_criteria_met(row):\n",
    "    criteria_count = 0\n",
    "    criteria_count += (row[\"ZHVF 1-Year Forecast (%)\"] > thresholds[\"ZHVF 1-Year Forecast (%)\"])\n",
    "    criteria_count += (row[\"Percent Change\"] > thresholds[\"Percent Change\"])\n",
    "    criteria_count += (row[\"Mean Income\"] > thresholds[\"Mean Income\"])\n",
    "    criteria_count += (row[\"luxury_business_count\"] > thresholds[\"luxury_business_count\"])\n",
    "    criteria_count += (thresholds[\"SizeRank_lower\"] < row[\"SizeRank\"] < thresholds[\"SizeRank_upper\"])\n",
    "    return criteria_count\n",
    "\n",
    "# Create the gentrified column based on criteria\n",
    "data[\"gentrified\"] = data.apply(lambda row: 1 if count_criteria_met(row) >= 3 else 0, axis=1)\n",
    "\n",
    "# Save the modified dataset\n",
    "data.to_csv(\"modified_dataset.csv\", index=False)\n"
   ]
  },
  {
   "cell_type": "code",
   "execution_count": 6,
   "id": "4248606c",
   "metadata": {},
   "outputs": [
    {
     "name": "stdout",
     "output_type": "stream",
     "text": [
      "Defaulting to user installation because normal site-packages is not writeable\n",
      "Collecting scikit-learn\n",
      "  Obtaining dependency information for scikit-learn from https://files.pythonhosted.org/packages/63/87/6cd5450f0385966bf2a5b865a2043cf68c2a41676193afdbccb40f8719dc/scikit_learn-1.3.0-cp39-cp39-macosx_12_0_arm64.whl.metadata\n",
      "  Downloading scikit_learn-1.3.0-cp39-cp39-macosx_12_0_arm64.whl.metadata (11 kB)\n",
      "Requirement already satisfied: numpy>=1.17.3 in /Users/vrishank/Library/Python/3.9/lib/python/site-packages (from scikit-learn) (1.25.2)\n",
      "Collecting scipy>=1.5.0 (from scikit-learn)\n",
      "  Obtaining dependency information for scipy>=1.5.0 from https://files.pythonhosted.org/packages/77/31/b063f21370c6050a663aae5a9868d2fe112b21caeface3c248016dfea092/scipy-1.11.2-cp39-cp39-macosx_12_0_arm64.whl.metadata\n",
      "  Downloading scipy-1.11.2-cp39-cp39-macosx_12_0_arm64.whl.metadata (54 kB)\n",
      "\u001b[2K     \u001b[90m━━━━━━━━━━━━━━━━━━━━━━━━━━━━━━━━━━━━━━━━\u001b[0m \u001b[32m54.1/54.1 kB\u001b[0m \u001b[31m2.2 MB/s\u001b[0m eta \u001b[36m0:00:00\u001b[0m\n",
      "\u001b[?25hCollecting joblib>=1.1.1 (from scikit-learn)\n",
      "  Obtaining dependency information for joblib>=1.1.1 from https://files.pythonhosted.org/packages/10/40/d551139c85db202f1f384ba8bcf96aca2f329440a844f924c8a0040b6d02/joblib-1.3.2-py3-none-any.whl.metadata\n",
      "  Downloading joblib-1.3.2-py3-none-any.whl.metadata (5.4 kB)\n",
      "Collecting threadpoolctl>=2.0.0 (from scikit-learn)\n",
      "  Obtaining dependency information for threadpoolctl>=2.0.0 from https://files.pythonhosted.org/packages/81/12/fd4dea011af9d69e1cad05c75f3f7202cdcbeac9b712eea58ca779a72865/threadpoolctl-3.2.0-py3-none-any.whl.metadata\n",
      "  Downloading threadpoolctl-3.2.0-py3-none-any.whl.metadata (10.0 kB)\n",
      "Downloading scikit_learn-1.3.0-cp39-cp39-macosx_12_0_arm64.whl (9.5 MB)\n",
      "\u001b[2K   \u001b[90m━━━━━━━━━━━━━━━━━━━━━━━━━━━━━━━━━━━━━━━━\u001b[0m \u001b[32m9.5/9.5 MB\u001b[0m \u001b[31m33.8 MB/s\u001b[0m eta \u001b[36m0:00:00\u001b[0m00:01\u001b[0m00:01\u001b[0m\n",
      "\u001b[?25hDownloading joblib-1.3.2-py3-none-any.whl (302 kB)\n",
      "\u001b[2K   \u001b[90m━━━━━━━━━━━━━━━━━━━━━━━━━━━━━━━━━━━━━━━━\u001b[0m \u001b[32m302.2/302.2 kB\u001b[0m \u001b[31m13.2 MB/s\u001b[0m eta \u001b[36m0:00:00\u001b[0m\n",
      "\u001b[?25hDownloading scipy-1.11.2-cp39-cp39-macosx_12_0_arm64.whl (29.6 MB)\n",
      "\u001b[2K   \u001b[90m━━━━━━━━━━━━━━━━━━━━━━━━━━━━━━━━━━━━━━━━\u001b[0m \u001b[32m29.6/29.6 MB\u001b[0m \u001b[31m40.5 MB/s\u001b[0m eta \u001b[36m0:00:00\u001b[0m00:01\u001b[0m00:01\u001b[0m\n",
      "\u001b[?25hDownloading threadpoolctl-3.2.0-py3-none-any.whl (15 kB)\n",
      "Installing collected packages: threadpoolctl, scipy, joblib, scikit-learn\n",
      "Successfully installed joblib-1.3.2 scikit-learn-1.3.0 scipy-1.11.2 threadpoolctl-3.2.0\n",
      "Note: you may need to restart the kernel to use updated packages.\n"
     ]
    }
   ],
   "source": [
    "%pip install scikit-learn"
   ]
  },
  {
   "cell_type": "code",
   "execution_count": 8,
   "id": "958f6ccc",
   "metadata": {},
   "outputs": [
    {
     "data": {
      "text/plain": [
       "['scaler.pkl']"
      ]
     },
     "execution_count": 8,
     "metadata": {},
     "output_type": "execute_result"
    }
   ],
   "source": [
    "\n",
    "from sklearn.model_selection import train_test_split\n",
    "from sklearn.preprocessing import StandardScaler\n",
    "from sklearn.linear_model import LogisticRegression\n",
    "import joblib\n",
    "\n",
    "# Extract features and target\n",
    "features = [\"SizeRank\", \"ZHVF 1-Year Forecast (%)\", \"Percent Change\", \"Mean Income\", \"luxury_business_count\"]\n",
    "X = data[features]\n",
    "y = data[\"gentrified\"]\n",
    "\n",
    "# Split the data\n",
    "X_train, X_test, y_train, y_test = train_test_split(X, y, test_size=0.2, random_state=42)\n",
    "\n",
    "# Scale the features\n",
    "scaler = StandardScaler()\n",
    "X_train_scaled = scaler.fit_transform(X_train)\n",
    "X_test_scaled = scaler.transform(X_test)\n",
    "\n",
    "# Train the model\n",
    "clf = LogisticRegression(random_state=42)\n",
    "clf.fit(X_train_scaled, y_train)\n",
    "\n",
    "# Save the model and scaler\n",
    "joblib.dump(clf, 'gentrification_model.pkl')\n",
    "joblib.dump(scaler, 'scaler.pkl')\n"
   ]
  },
  {
   "cell_type": "code",
   "execution_count": 10,
   "id": "7f11a42a",
   "metadata": {},
   "outputs": [],
   "source": [
    "\n",
    "# Make predictions on the test set\n",
    "y_pred = clf.predict(X_test_scaled)\n",
    "\n",
    "# Create a dataframe with test set ZIP codes, actual values, and predictions\n",
    "results = pd.DataFrame({\n",
    "    'ZIP Code': X_test.index,\n",
    "    'Actual Value': y_test,\n",
    "    'Predicted Value': y_pred\n",
    "})\n",
    "\n",
    "# Save the predictions to a CSV\n",
    "results.to_csv('model_predictions.csv', index=False)\n"
   ]
  }
 ],
 "metadata": {
  "kernelspec": {
   "display_name": "Python 3",
   "language": "python",
   "name": "python3"
  },
  "language_info": {
   "codemirror_mode": {
    "name": "ipython",
    "version": 3
   },
   "file_extension": ".py",
   "mimetype": "text/x-python",
   "name": "python",
   "nbconvert_exporter": "python",
   "pygments_lexer": "ipython3",
   "version": "3.9.6"
  }
 },
 "nbformat": 4,
 "nbformat_minor": 5
}
