{
 "cells": [
  {
   "cell_type": "code",
   "execution_count": null,
   "id": "70f80f09",
   "metadata": {},
   "outputs": [],
   "source": [
    "import pandas as pd"
   ]
  },
  {
   "cell_type": "code",
   "execution_count": null,
   "id": "c9ff661a",
   "metadata": {},
   "outputs": [],
   "source": [
    "# Load the data from the provided CSV file"
   ]
  },
  {
   "cell_type": "code",
   "execution_count": null,
   "id": "a21c0bbd",
   "metadata": {},
   "outputs": [],
   "source": [
    "zhvf_data = pd.read_csv('/mnt/data/Zip_zhvf_growth_uc_sfrcondo_tier_0.33_0.67_sm_sa_month.csv')"
   ]
  },
  {
   "cell_type": "code",
   "execution_count": null,
   "id": "ddc4e925",
   "metadata": {},
   "outputs": [],
   "source": [
    "# Extract and rename the desired columns"
   ]
  },
  {
   "cell_type": "code",
   "execution_count": null,
   "id": "13c2541a",
   "metadata": {},
   "outputs": [],
   "source": [
    "cleaned_zhvf_data = zhvf_data[['RegionName', '2024-08-31']]"
   ]
  },
  {
   "cell_type": "code",
   "execution_count": null,
   "id": "b9341ebf",
   "metadata": {},
   "outputs": [],
   "source": [
    "cleaned_zhvf_data.columns = ['ZIP Code', 'ZHVF 1-Year Forecast (%)']"
   ]
  },
  {
   "cell_type": "code",
   "execution_count": null,
   "id": "6f5d6592",
   "metadata": {},
   "outputs": [],
   "source": [
    "# Save the cleaned data to a CSV file"
   ]
  },
  {
   "cell_type": "code",
   "execution_count": null,
   "id": "7ee9c90b",
   "metadata": {},
   "outputs": [],
   "source": [
    "cleaned_zhvf_data.to_csv('/mnt/data/cleaned_zhvf_data.csv', index=False)"
   ]
  }
 ],
 "metadata": {},
 "nbformat": 4,
 "nbformat_minor": 5
}
