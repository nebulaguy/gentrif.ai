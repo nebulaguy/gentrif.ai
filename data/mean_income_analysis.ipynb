{
 "cells": [
  {
   "cell_type": "code",
   "execution_count": null,
   "id": "9ca4256d",
   "metadata": {},
   "outputs": [],
   "source": [
    "import pandas as pd"
   ]
  },
  {
   "cell_type": "code",
   "execution_count": null,
   "id": "71962fe3",
   "metadata": {},
   "outputs": [],
   "source": [
    "# Load the data from the CSV file"
   ]
  },
  {
   "cell_type": "code",
   "execution_count": null,
   "id": "fd27fae0",
   "metadata": {},
   "outputs": [],
   "source": [
    "data = pd.read_csv('/mnt/data/us_income_zipcode[1].csv')"
   ]
  },
  {
   "cell_type": "code",
   "execution_count": null,
   "id": "2e52f5ba",
   "metadata": {},
   "outputs": [],
   "source": [
    "# Compute the mean income for each ZIP code using the 'Nonfamily Households Mean Income (Dollars)' column"
   ]
  },
  {
   "cell_type": "code",
   "execution_count": null,
   "id": "b8d48756",
   "metadata": {},
   "outputs": [],
   "source": [
    "mean_income_per_zip = data.groupby('ZIP')['Nonfamily Households Mean Income (Dollars)'].mean()"
   ]
  },
  {
   "cell_type": "code",
   "execution_count": null,
   "id": "d465afd6",
   "metadata": {},
   "outputs": [],
   "source": [
    "# Prepare a dataframe for export with the desired columns"
   ]
  },
  {
   "cell_type": "code",
   "execution_count": null,
   "id": "ca522f5f",
   "metadata": {},
   "outputs": [],
   "source": [
    "export_data = mean_income_per_zip.reset_index()"
   ]
  },
  {
   "cell_type": "code",
   "execution_count": null,
   "id": "a28551f1",
   "metadata": {},
   "outputs": [],
   "source": [
    "export_data.columns = ['ZIP Code', 'Mean Income']"
   ]
  },
  {
   "cell_type": "code",
   "execution_count": null,
   "id": "a6186e3d",
   "metadata": {},
   "outputs": [],
   "source": [
    "# Save the dataframe to a CSV file"
   ]
  },
  {
   "cell_type": "code",
   "execution_count": null,
   "id": "52ecc184",
   "metadata": {},
   "outputs": [],
   "source": [
    "export_path = '/mnt/data/mean_income_per_zip.csv'"
   ]
  },
  {
   "cell_type": "code",
   "execution_count": null,
   "id": "eecde560",
   "metadata": {},
   "outputs": [],
   "source": [
    "export_data.to_csv(export_path, index=False)"
   ]
  },
  {
   "cell_type": "code",
   "execution_count": null,
   "id": "8b46daa4",
   "metadata": {},
   "outputs": [],
   "source": [
    "# Remove rows with NaN values in the 'Mean Income' column"
   ]
  },
  {
   "cell_type": "code",
   "execution_count": null,
   "id": "bd2b0f61",
   "metadata": {},
   "outputs": [],
   "source": [
    "cleaned_data = export_data.dropna(subset=['Mean Income'])"
   ]
  },
  {
   "cell_type": "code",
   "execution_count": null,
   "id": "6651d411",
   "metadata": {},
   "outputs": [],
   "source": [
    "# Save the cleaned data to a new CSV file"
   ]
  },
  {
   "cell_type": "code",
   "execution_count": null,
   "id": "087a9221",
   "metadata": {},
   "outputs": [],
   "source": [
    "cleaned_export_path = '/mnt/data/cleaned_mean_income_per_zip.csv'"
   ]
  },
  {
   "cell_type": "code",
   "execution_count": null,
   "id": "b5d39662",
   "metadata": {},
   "outputs": [],
   "source": [
    "cleaned_data.to_csv(cleaned_export_path, index=False)"
   ]
  }
 ],
 "metadata": {},
 "nbformat": 4,
 "nbformat_minor": 5
}
